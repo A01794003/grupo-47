{
  "cells": [
    {
      "cell_type": "markdown",
      "metadata": {
        "id": "lNl8G3vHkPSX"
      },
      "source": [
        "# **Maestría en Inteligencia Artificial Aplicada**\n",
        "\n",
        "## Curso: **Procesamiento de Lenguaje Natural**\n",
        "\n",
        "### Tecnológico de Monterrey\n",
        "\n",
        "### Prof Luis Eduardo Falcón Morales\n",
        "\n",
        "## Actividad Semana 5\n",
        "\n",
        "### **Vectores Embebidos Pre-entrenados: Fasttext**"
      ]
    },
    {
      "cell_type": "markdown",
      "metadata": {
        "id": "U69mHA6i201G"
      },
      "source": [
        "#### **Nombres y matrículas de los integrantes del equipo:**\n",
        "\n",
        "\n",
        "\n",
        "*   Juan Carlos Villamil Rojas - A01794003\n",
        "*   Yeison Fernando Villamil Franco - A01793803\n",
        "*   Daniel Isai Yañez Torres - A00823363\n",
        "*   Isaac Francisco Viramontes Castillo - A01793679\n",
        "*   Kurt Yañez Badelt - A00394053\n",
        "\n",
        "\n"
      ]
    },
    {
      "cell_type": "code",
      "execution_count": 30,
      "metadata": {
        "id": "wCL2p6MA8NuT"
      },
      "outputs": [],
      "source": [
        "# Aquí deberás incluir todas las librerías que requieras durante esta actividad:\n",
        "import pandas as pd\n",
        "import numpy as np\n",
        "import matplotlib.pyplot as plt\n",
        "import seaborn as sns"
      ]
    },
    {
      "cell_type": "markdown",
      "metadata": {
        "id": "4c34ZOnna3Gu"
      },
      "source": [
        "## **Pregunta - 1:**\n",
        "\n"
      ]
    },
    {
      "cell_type": "markdown",
      "metadata": {
        "id": "yeNllxRdmeWg"
      },
      "source": [
        "Descarga los 3 archivos de Canvas y genera un nuevo DataFrame de Pandas con ellos.\n",
        "\n",
        "**Llama simplemente \"df\" a dicho DataFrame.**\n",
        "\n",
        "Los archivos los encuentras en Canvas: amazon5.txt, imdb5.txt, yelp5.txt.\n",
        "\n"
      ]
    },
    {
      "cell_type": "code",
      "execution_count": 31,
      "metadata": {
        "id": "T_lyEFRkxzC6"
      },
      "outputs": [],
      "source": [
        "\n",
        "# ******* Inlcuye a continuación todas las líneas de código y celdas que requieras: ***********\n",
        "\n",
        "# Leer los archivos de texto y cargarlos en dataframes  \n",
        "df_amazons5 = pd.read_csv('amazon5.txt', sep='\\t', names=['review','label'], header=None, encoding='utf-8')\n",
        "df_imdb5 = pd.read_csv('imdb5.txt', sep='\\t', names=['text'], header=None, encoding='utf-8')\n",
        "df_imdb5['review'] = df_imdb5['text'].apply(lambda x: x.split('\\t')[0][:-1])\n",
        "df_imdb5['label'] = pd.to_numeric(df_imdb5['text'].apply(lambda x: x.split('\\t')[0][-1]))\n",
        "df_imdb5 = df_imdb5.drop(columns=['text'])\n",
        "df_yelp5 = pd.read_csv('yelp5.txt', sep='\\t', names=['review','label'], header=None, encoding='utf-8')\n",
        "\n",
        "# Concatenar los dataframes\n",
        "df = pd.concat([df_amazons5, df_imdb5, df_yelp5], axis=0)\n",
        "\n",
        "# *********** Aquí termina la sección de agregar código *************\n"
      ]
    },
    {
      "cell_type": "code",
      "execution_count": 32,
      "metadata": {
        "id": "3-w1xMLYnm9b"
      },
      "outputs": [
        {
          "name": "stdout",
          "output_type": "stream",
          "text": [
            "<class 'pandas.core.frame.DataFrame'>\n",
            "Index: 3000 entries, 0 to 999\n",
            "Data columns (total 2 columns):\n",
            " #   Column  Non-Null Count  Dtype \n",
            "---  ------  --------------  ----- \n",
            " 0   review  3000 non-null   object\n",
            " 1   label   3000 non-null   int64 \n",
            "dtypes: int64(1), object(1)\n",
            "memory usage: 70.3+ KB\n"
          ]
        }
      ],
      "source": [
        "# Verifiquemos la información del DataFrame:\n",
        "df.info()"
      ]
    },
    {
      "cell_type": "code",
      "execution_count": 33,
      "metadata": {
        "id": "NfVUcYe1nubT"
      },
      "outputs": [
        {
          "data": {
            "text/html": [
              "<div>\n",
              "<style scoped>\n",
              "    .dataframe tbody tr th:only-of-type {\n",
              "        vertical-align: middle;\n",
              "    }\n",
              "\n",
              "    .dataframe tbody tr th {\n",
              "        vertical-align: top;\n",
              "    }\n",
              "\n",
              "    .dataframe thead th {\n",
              "        text-align: right;\n",
              "    }\n",
              "</style>\n",
              "<table border=\"1\" class=\"dataframe\">\n",
              "  <thead>\n",
              "    <tr style=\"text-align: right;\">\n",
              "      <th></th>\n",
              "      <th>review</th>\n",
              "      <th>label</th>\n",
              "    </tr>\n",
              "  </thead>\n",
              "  <tbody>\n",
              "    <tr>\n",
              "      <th>0</th>\n",
              "      <td>So there is no way for me to plug it in here i...</td>\n",
              "      <td>0</td>\n",
              "    </tr>\n",
              "    <tr>\n",
              "      <th>1</th>\n",
              "      <td>Good case, Excellent value.</td>\n",
              "      <td>1</td>\n",
              "    </tr>\n",
              "    <tr>\n",
              "      <th>2</th>\n",
              "      <td>Great for the jawbone.</td>\n",
              "      <td>1</td>\n",
              "    </tr>\n",
              "    <tr>\n",
              "      <th>3</th>\n",
              "      <td>Tied to charger for conversations lasting more...</td>\n",
              "      <td>0</td>\n",
              "    </tr>\n",
              "    <tr>\n",
              "      <th>4</th>\n",
              "      <td>The mic is great.</td>\n",
              "      <td>1</td>\n",
              "    </tr>\n",
              "  </tbody>\n",
              "</table>\n",
              "</div>"
            ],
            "text/plain": [
              "                                              review  label\n",
              "0  So there is no way for me to plug it in here i...      0\n",
              "1                        Good case, Excellent value.      1\n",
              "2                             Great for the jawbone.      1\n",
              "3  Tied to charger for conversations lasting more...      0\n",
              "4                                  The mic is great.      1"
            ]
          },
          "execution_count": 33,
          "metadata": {},
          "output_type": "execute_result"
        }
      ],
      "source": [
        "# Y veamos sus primeros registros:\n",
        "df.head()"
      ]
    },
    {
      "cell_type": "markdown",
      "metadata": {
        "id": "MfZZ0stLmWJN"
      },
      "source": [
        "## **Pregunta - 2:**"
      ]
    },
    {
      "cell_type": "markdown",
      "metadata": {
        "id": "7F6JF5BommZ6"
      },
      "source": [
        "Realiza el proceso de limpieza.\n",
        "\n",
        "Aplica el preprocesamiento que consideres adecuado, sin embargo, deberás aplicar necesariamente alguna de las técnicas de lematización.\n",
        "\n",
        "\n",
        "\n",
        "\n",
        "\n",
        "\n",
        "\n",
        "\n",
        "\n"
      ]
    },
    {
      "cell_type": "code",
      "execution_count": 34,
      "metadata": {},
      "outputs": [
        {
          "name": "stderr",
          "output_type": "stream",
          "text": [
            "[nltk_data] Downloading package stopwords to /home/kurt/nltk_data...\n",
            "[nltk_data]   Package stopwords is already up-to-date!\n",
            "[nltk_data] Downloading package wordnet to /home/kurt/nltk_data...\n",
            "[nltk_data]   Package wordnet is already up-to-date!\n"
          ]
        },
        {
          "data": {
            "text/plain": [
              "True"
            ]
          },
          "execution_count": 34,
          "metadata": {},
          "output_type": "execute_result"
        }
      ],
      "source": [
        "from nltk.corpus import stopwords\n",
        "from nltk.stem import WordNetLemmatizer\n",
        "import nltk\n",
        "import re\n",
        "nltk.download('stopwords')\n",
        "nltk.download('wordnet') "
      ]
    },
    {
      "cell_type": "code",
      "execution_count": 35,
      "metadata": {},
      "outputs": [],
      "source": [
        "class cleaning:\n",
        "    \n",
        "    def clean_tok(doc, mystopwords):\n",
        "        # # Reemplazamos los valores que son '10/10' por el témino 'ten/ten'\n",
        "        doc = doc.replace('10/10', 'ten/ten')\n",
        "        # Removemos los caracteres especiales\n",
        "        pattern = r'[^a-zA-Z\\s]'\n",
        "        doc = re.sub(pattern, ' ', doc)\n",
        "        # Considerar solo las palabras mayores a uno\n",
        "        doc = ' '.join([word for word in doc.split() if len(word) > 1])\n",
        "        # Se parasaran todas las palabras a minusculas\n",
        "        doc = doc.lower()\n",
        "        # Eliminamos stopwords\n",
        "        doc = ' '.join([word for word in doc.split() if word not in (mystopwords)])\n",
        "        # tokens para cada comentario\n",
        "        tokens = doc.split()\n",
        "\n",
        "        return tokens\n",
        "\n",
        "    def clean_doc(doc):\n",
        "        # Instanciamos el lemmatizador a ser usado\n",
        "        wnl = WordNetLemmatizer()\n",
        "        # Aplicamos la lematización\n",
        "        verbs = [wnl.lemmatize(word, 'v') for word in doc]\n",
        "        nouns = [wnl.lemmatize(word, 'n') for word in verbs]\n",
        "        adj = [wnl.lemmatize(word, 'a') for word in nouns]\n",
        "        tokens = [wnl.lemmatize(word, 'r') for word in adj]\n",
        "        return tokens"
      ]
    },
    {
      "cell_type": "code",
      "execution_count": 36,
      "metadata": {
        "id": "TsnvMp-7oYCM"
      },
      "outputs": [],
      "source": [
        "\n",
        "# ******* Inlcuye a continuación todas las líneas de código y celdas que requieras: ***********\n",
        "\n",
        "negwords = [ 'no', 'nor', 'not', 'ain', 'aren', \"aren't\", 'don', \"don't\", 'couldn', \"couldn't\", 'didn', \"didn't\", 'doesn', \"doesn't\", 'hadn', \"hadn't\", 'hasn', \"hasn't\", 'haven', \"haven't\", 'isn', \"isn't\", 'mightn', \"mightn't\", 'mustn', \"mustn't\", 'needn', \"needn't\", 'shan', \"shan't\", 'shouldn', \"shouldn't\", 'wasn', \"wasn't\", 'weren', \"weren't\", 'won', \"won't\", 'wouldn', \"wouldn't\"]\n",
        "mystopwords = [word for word in stopwords.words('english') if word not in negwords]\n",
        "Xcleantok = [cleaning.clean_tok(x, mystopwords) for x in df.review]   \n",
        "Xclean = [cleaning.clean_doc(x) for x in Xcleantok]\n",
        "\n",
        "\n",
        "# *********** Aquí termina la sección de agregar código *************"
      ]
    },
    {
      "cell_type": "code",
      "execution_count": 37,
      "metadata": {
        "id": "7jlQuoI2o33T"
      },
      "outputs": [
        {
          "name": "stdout",
          "output_type": "stream",
          "text": [
            "['no', 'way', 'plug', 'u', 'unless', 'go', 'converter']\n",
            "['good', 'case', 'excellent', 'value']\n",
            "['great', 'jawbone']\n",
            "['tie', 'charger', 'conversation', 'last', 'minute', 'major', 'problem']\n",
            "['mic', 'great']\n"
          ]
        }
      ],
      "source": [
        "# Despleguemos los primeros comentarios después de tu proceso de limpieza:\n",
        "\n",
        "for x in Xclean[0:5]:\n",
        "  print(x)\n"
      ]
    },
    {
      "cell_type": "markdown",
      "metadata": {
        "id": "ygchEdcKqIzU"
      },
      "source": [
        "# **Pregunta - 3:**\n"
      ]
    },
    {
      "cell_type": "markdown",
      "metadata": {
        "id": "7wEIOkkl9Dot"
      },
      "source": [
        "\n",
        "Realicemos una partición aleatoria con los mismos porcentajes de la práctica pasada para poder comparar dichos resultados con los de\n",
        "esta actividad, a saber, 70%, 15% y 15%, para entrenamiento, validación y prueba, respectivamente."
      ]
    },
    {
      "cell_type": "code",
      "execution_count": 38,
      "metadata": {},
      "outputs": [],
      "source": [
        "from sklearn.model_selection import train_test_split"
      ]
    },
    {
      "cell_type": "code",
      "execution_count": 39,
      "metadata": {
        "id": "b0SAcYdq9X0w"
      },
      "outputs": [
        {
          "name": "stdout",
          "output_type": "stream",
          "text": [
            "X,y Train: 2100 2100\n",
            "X,y Val: 450 450\n",
            "X,y Test 450 450\n"
          ]
        }
      ],
      "source": [
        "\n",
        "# ************* Inicia la sección de agregar código:*****************************\n",
        "\n",
        "#Separamos los datos en conjuntos de entrenamiento, validación y prueba\n",
        "x_train, x_val_and_test, y_train, y_val_and_test = train_test_split(Xclean, df.label, train_size=.70, shuffle=True, random_state=1) \n",
        "x_val, x_test, y_val, y_test = train_test_split(x_val_and_test, y_val_and_test, test_size=.50, shuffle=True, random_state=17)\n",
        "\n",
        "\n",
        "# *********** Termina la sección de agregar código *************\n",
        "\n",
        "\n",
        "# verificemos las dimensiones obtenidas:\n",
        "print('X,y Train:', len(x_train), len(y_train))\n",
        "print('X,y Val:', len(x_val), len(y_val))\n",
        "print('X,y Test', len(x_test), len(y_test))"
      ]
    },
    {
      "cell_type": "markdown",
      "metadata": {
        "id": "1qjKoEqiqBN1"
      },
      "source": [
        "# **Pregunta - 4:**"
      ]
    },
    {
      "cell_type": "markdown",
      "metadata": {
        "id": "jENsKiN99r3F"
      },
      "source": [
        "\n",
        "\n",
        "Construye tu vocabulario a continuación\n"
      ]
    },
    {
      "cell_type": "code",
      "execution_count": 40,
      "metadata": {
        "id": "TzJntmLPqPqC"
      },
      "outputs": [],
      "source": [
        "# a.\tUsa el conjunto de entrenamiento para generar tu vocabulario\n",
        "#     con un tamaño que consideres adecuado:\n",
        "\n",
        "\n",
        "# ******* Inlcuye a continuación todas las líneas de código y celdas que requieras: ***********\n",
        "\n",
        "\n",
        "# a. Usa el conjunto de entrenamiento para generar tu vocabulario con un tamaño que consideres adecuado:\n",
        "\n",
        "# ******* Inlcuye a continuación todas las líneas de código y celdas que requieras: ***********\n",
        "\n",
        "# Generamos el vocabulario\n",
        "min_freq = {}\n",
        "# Contamos la frecuencia de las palabras\n",
        "for x in x_train:\n",
        "    for w in x:\n",
        "        min_freq[w] = min_freq.get(w, 0) + 1\n",
        "\n",
        "# Obtenemos los valores de las frecuencias\n",
        "min_freq_values = list(min_freq.values())\n",
        "# Obtenemos el umbral\n",
        "min_freq_threshold = np.min(min_freq_values)\n",
        "\n",
        "# Filtramos las palabras que no cumplen con el umbral\n",
        "midicc = {w: freq for w, freq in min_freq.items() if freq > min_freq_threshold}\n",
        "\n",
        "# *********** Aquí termina la sección de agregar código *************"
      ]
    },
    {
      "cell_type": "code",
      "execution_count": 41,
      "metadata": {
        "id": "yTDZ0Rr86CUP"
      },
      "outputs": [
        {
          "name": "stdout",
          "output_type": "stream",
          "text": [
            "Longitud del vocabulario generado:\n",
            "1433\n"
          ]
        }
      ],
      "source": [
        "# b.\tIndica el tamaño del vocabulario generado.\n",
        "\n",
        "print('Longitud del vocabulario generado:')\n",
        "\n",
        "\n",
        "# ******* Inicia la sección de agregar código: ***********\n",
        "\n",
        "\n",
        "print(len(midicc))\n",
        "\n",
        "\n",
        "# *********** Aquí termina la sección de agregar código *************"
      ]
    },
    {
      "cell_type": "markdown",
      "metadata": {
        "id": "NDa4EhTqrw15"
      },
      "source": [
        "c.\t¿Por qué debe usarse solamente el conjunto de entrenamiento para generar el vocabulario?\n",
        "\n",
        "\n",
        "### ++++++++ Inicia la sección de agregar texto: +++++++++++\n",
        "\n",
        "***Para evitar el data lekage/filtración de datos***\n",
        "\n",
        "***Utilizar únicamente el conjunto de entrenamiento asegura que el modelo no tenga acceso a información de los conjuntos de validación y prueba, evitando así el sesgo y asegurando una evaluación justa y objetiva del desempeño del modelo en datos no vistos.***\n",
        "\n",
        "### ++++++++ Termina la sección de agregar texto: +++++++++++\n"
      ]
    },
    {
      "cell_type": "code",
      "execution_count": 42,
      "metadata": {
        "id": "7ykjxQI3rpxx"
      },
      "outputs": [],
      "source": [
        "# d.\tCon el vocabulario generado, filtra los conjuntos de entrenamiento,\n",
        "#     validación y prueba para que todos los comentarios usen solamente las\n",
        "#     palabras de este vocabulario.\n",
        "\n",
        "#     Llamar train_x, val_x y test_x a estos tres conjuntos.\n",
        "\n",
        "\n",
        "# ******* Inlcuye a continuación todas las líneas de código y celdas que requieras: ***********\n",
        "\n",
        "# Filtramos los conjuntos de entrenamiento, validación y prueba\n",
        "train_x = [[w for w in ss if w in midicc] for ss in x_train]\n",
        "# Filtramos los conjuntos de validación y prueba\n",
        "val_x = [[w for w in ss if w in midicc] for ss in x_val]\n",
        "# Filtramos los conjuntos de validación y prueba\n",
        "test_x = [[w for w in ss if w in midicc] for ss in x_test]\n",
        "\n",
        "# *********** Aquí termina la sección de agregar código *************\n"
      ]
    },
    {
      "cell_type": "code",
      "execution_count": 43,
      "metadata": {
        "id": "iYF2RGuPtQTC"
      },
      "outputs": [
        {
          "name": "stdout",
          "output_type": "stream",
          "text": [
            "['star', 'don', 'fare', 'much', 'good', 'people', 'like', 'morgan', 'ed', 'waste']\n",
            "['tonight', 'filet', 'special', 'suck']\n",
            "['pay', 'bill', 'not', 'tip', 'felt', 'server', 'terrible', 'job']\n",
            "['call', 'properly', 'cook', 'steak', 'don', 'understand']\n",
            "['however', 'keypad', 'tinny', 'sometimes', 'reach', 'wrong', 'button']\n"
          ]
        }
      ],
      "source": [
        "# Vemos el resultado de los primeros comentarios del conjunto de entrenamiento:\n",
        "\n",
        "for ss in train_x[0:5]:\n",
        "  print(ss)"
      ]
    },
    {
      "cell_type": "markdown",
      "metadata": {
        "id": "RS0Hxj25vTWh"
      },
      "source": [
        "#  **Pregunta - 5:**"
      ]
    },
    {
      "cell_type": "markdown",
      "metadata": {
        "id": "CnHHAza5_P5Z"
      },
      "source": [
        "\n",
        "a. Incluye una tabla comparativa de pros y contras entre los modelos FastText, word2vec de Google y Glove de Stanford."
      ]
    },
    {
      "cell_type": "markdown",
      "metadata": {
        "id": "uTI9xSgF_Xc8"
      },
      "source": [
        "### ++++++++ Inicia la sección de agregar texto: +++++++++++\n",
        "\n",
        "| Modelo     | Pros                                                                 | Contras                                                                  |\n",
        "|------------|----------------------------------------------------------------------|--------------------------------------------------------------------------|\n",
        "| **FastText** | - Considera sub-palabras, lo que mejora el manejo de palabras raras y morfológicamente ricas. <br> - Rápido en entrenamiento y evaluación. <br> - Maneja bien palabras fuera del vocabulario (OOV). | - Mayor tamaño del modelo debido a las representaciones de sub-palabras. <br> - Más complejo en términos de implementación y comprensión. |\n",
        "| **word2vec** | - Simple y eficiente en términos de entrenamiento y uso. <br> - Dos variantes disponibles (CBOW y Skip-gram) que se adaptan a diferentes necesidades. | - No maneja bien palabras OOV. <br> - No captura información morfológica interna de las palabras. |\n",
        "| **GloVe**   | - Captura información global de co-ocurrencia en el corpus, lo que puede resultar en embeddings más precisos. <br> - Eficiente para obtener vectores de alta calidad con menos datos. | - No maneja bien palabras OOV. <br> - Entrenamiento más lento y requiere más memoria para la matriz de co-ocurrencia. |\n",
        "\n",
        "\n",
        "### ++++++++ Termina la sección de agregar texto: +++++++++++\n"
      ]
    },
    {
      "cell_type": "markdown",
      "metadata": {
        "id": "ToqRl7fT_fn2"
      },
      "source": [
        "# **Pregunta - 6:**\n",
        "\n",
        "Utiliza el modelo FastText de vectores embebidos pre-entrenados de dimensión 300 para generar un nuevo diccionario clave-valor, donde la “clave” será cada token o palabra de tu vocabulario y el “valor” será su vector embebido de dimensión 300.\n",
        "\n",
        "Este diccionario deberá ser del mismo tamaño que el vocabulario previo que hayas construido previamente.\n",
        "\n",
        "Es recomendable que una vez que generes el nuevo vocabulario de vectores embebidos, guardes dicho diccionario en un archivo.\n",
        "\n",
        "Recuerda borrar la variable donde descargaste los 2 millones de vectores embebidos Fasttext.\n",
        "\n"
      ]
    },
    {
      "cell_type": "code",
      "execution_count": 44,
      "metadata": {},
      "outputs": [],
      "source": [
        "import fasttext\n",
        "import fasttext.util\n",
        "import json"
      ]
    },
    {
      "cell_type": "code",
      "execution_count": 45,
      "metadata": {},
      "outputs": [
        {
          "data": {
            "text/plain": [
              "'cc.en.300.bin'"
            ]
          },
          "execution_count": 45,
          "metadata": {},
          "output_type": "execute_result"
        }
      ],
      "source": [
        "fasttext.util.download_model('en', if_exists='ignore')"
      ]
    },
    {
      "cell_type": "code",
      "execution_count": 46,
      "metadata": {
        "id": "UdK-jMfLxHLY"
      },
      "outputs": [],
      "source": [
        "# ******* Inlcuye a continuación todas las líneas de código y celdas que requieras: ***********\n",
        "\n",
        "\n",
        "# Load the pre-trained FastText model\n",
        "model = fasttext.load_model('cc.en.300.bin')\n",
        "\n",
        "# Crear un diccionario de embeddings\n",
        "dict_embeddings = {}\n",
        "\n",
        "# Iterar sobre las palabras del conjunto de entrenamiento\n",
        "for x in train_x:\n",
        "    for w in x:\n",
        "        if w not in dict_embeddings: # si la palabra no está en el diccionario\n",
        "            dict_embeddings[w] = model.get_word_vector(w).tolist()# guardar el vector de la palabra en el diccionario\n",
        "\n",
        "# Guardar el diccionario de embeddings en un archivo\n",
        "with open('embeddings_dict.json', 'w') as f:\n",
        "    json.dump(dict_embeddings, f)"
      ]
    },
    {
      "cell_type": "code",
      "execution_count": 47,
      "metadata": {},
      "outputs": [
        {
          "name": "stdout",
          "output_type": "stream",
          "text": [
            "La longitud del diccionario de embedding es igual diccionario de palabras: True\n",
            "1433 1433\n"
          ]
        }
      ],
      "source": [
        "print(f'La longitud del diccionario de embedding es igual diccionario de palabras: {len(dict_embeddings)==len(midicc)}')\n",
        "print(len(dict_embeddings), len(midicc))"
      ]
    },
    {
      "cell_type": "markdown",
      "metadata": {
        "id": "W4S7q0yR0Mpi"
      },
      "source": [
        "# **Pregunta - 7:**"
      ]
    },
    {
      "cell_type": "markdown",
      "metadata": {
        "id": "VyeOrkoaC1eq"
      },
      "source": [
        "\n",
        "\n",
        "Generamos los vectores embebidos a paertir de los conjuntos de entrenamiento, validación y preuba.\n",
        "\n",
        "Los llamaremos trainEmb, valEmb y testEmb, respectivamente."
      ]
    },
    {
      "cell_type": "code",
      "execution_count": 48,
      "metadata": {
        "id": "wnfQpkxg0Usq"
      },
      "outputs": [],
      "source": [
        "# ******* Inlcuye a continuación todas las líneas de código y celdas que requieras: ***********\n",
        "\n",
        "# Función para obtener los embeddings\n",
        "def get_embeddings(x: list, dict_embeddings: dict):\n",
        "    list_emb = []\n",
        "    for list_token in x:# Iterar sobre los tokens de cada comentario\n",
        "        list_word = [dict_embeddings[token] for token in list_token if token in dict_embeddings]# Obtener los embeddings de las palabras que están en el diccionario\n",
        "        if list_word:# Si hay embeddings\n",
        "            mean_embedding = np.mean(list_word, axis=0).tolist()# Calcular el promedio de los embeddings\n",
        "        else:\n",
        "            pass\n",
        "        list_emb.append(mean_embedding)# Guardar el promedio de los embeddings\n",
        "    \n",
        "    return pd.DataFrame(list_emb)# Retornar los embeddings en un DataFrame\n",
        "\n",
        "trainEmb = get_embeddings(train_x, dict_embeddings)# Obtener los embeddings del conjunto de entrenamiento\n",
        "valEmb = get_embeddings(val_x, dict_embeddings)# Obtener los embeddings del conjunto de validación\n",
        "testEmb = get_embeddings(test_x, dict_embeddings)# Obtener los embeddings del conjunto de prueba\n",
        "\n",
        "# *********** Aquí termina la sección de agregar código *************"
      ]
    },
    {
      "cell_type": "code",
      "execution_count": 49,
      "metadata": {
        "id": "J3BBF96D0N8Z"
      },
      "outputs": [
        {
          "name": "stdout",
          "output_type": "stream",
          "text": [
            "Train-Emb: (2100, 300)\n",
            "Val-Emb: (450, 300)\n",
            "Test-Emb: (450, 300)\n"
          ]
        }
      ],
      "source": [
        "# Veamos las dimensiones de cada conjunto embebido:\n",
        "\n",
        "print(\"Train-Emb:\", trainEmb.shape)\n",
        "print(\"Val-Emb:\", valEmb.shape)\n",
        "print(\"Test-Emb:\", testEmb.shape)"
      ]
    },
    {
      "cell_type": "code",
      "execution_count": 50,
      "metadata": {},
      "outputs": [
        {
          "name": "stdout",
          "output_type": "stream",
          "text": [
            "Head Train-Emb:         0         1         2         3         4         5         6    \\\n",
            "0 -0.071837 -0.001531 -0.021630  0.064228 -0.094599  0.002726 -0.000581   \n",
            "1 -0.093096 -0.044793  0.047225  0.091563 -0.048023 -0.008311 -0.017823   \n",
            "2 -0.069873  0.059082  0.033923  0.101785 -0.077946  0.058913  0.019634   \n",
            "3 -0.025258 -0.012372  0.014095  0.104639 -0.053756 -0.039500 -0.034532   \n",
            "4  0.012606  0.015765 -0.002977  0.064825  0.010822  0.005253  0.024012   \n",
            "\n",
            "        7         8         9    ...       290       291       292       293  \\\n",
            "0 -0.045051  0.011124 -0.001109  ...  0.046731  0.055667 -0.196297  0.030969   \n",
            "1 -0.071116  0.015722 -0.025642  ...  0.057286 -0.002432 -0.073960 -0.026485   \n",
            "2 -0.008165 -0.013550 -0.032985  ...  0.120391  0.022244 -0.098055  0.088933   \n",
            "3 -0.068787  0.019456 -0.029874  ...  0.072265 -0.019793 -0.088804 -0.033538   \n",
            "4 -0.010302 -0.018359 -0.044634  ...  0.049113 -0.036112 -0.031458  0.029927   \n",
            "\n",
            "        294       295       296       297       298       299  \n",
            "0  0.015340  0.012747  0.035580  0.120077  0.007294 -0.058728  \n",
            "1 -0.008459  0.056094  0.042647  0.096876 -0.025690 -0.080708  \n",
            "2 -0.063066  0.051810  0.041626  0.087409  0.034534 -0.038407  \n",
            "3 -0.007723  0.061834  0.006421  0.045372  0.012543 -0.036809  \n",
            "4  0.007325 -0.037697 -0.001686  0.057657  0.007502 -0.032268  \n",
            "\n",
            "[5 rows x 300 columns]\n"
          ]
        }
      ],
      "source": [
        "print(\"Head Train-Emb:\", trainEmb.head()) # Mostramos los primeros registros del conjunto de los embeddings solo para ver como se ven"
      ]
    },
    {
      "cell_type": "markdown",
      "metadata": {
        "id": "pibp1LA91CP_"
      },
      "source": [
        "# **Pregunta - 8:**\n"
      ]
    },
    {
      "cell_type": "markdown",
      "metadata": {
        "id": "UxC9K0VnGOwG"
      },
      "source": [
        "\n",
        "Utiliza los modelos de regresión logística y bosque aleatorio (random forest) y encuentra sus desempeños.\n",
        "\n",
        "Compara los resultados con los de la semana anterior."
      ]
    },
    {
      "cell_type": "code",
      "execution_count": 51,
      "metadata": {},
      "outputs": [],
      "source": [
        "from sklearn.linear_model import LogisticRegression\n",
        "from sklearn.ensemble import RandomForestClassifier\n",
        "from sklearn.model_selection import StratifiedKFold, GridSearchCV\n",
        "from sklearn.metrics import classification_report"
      ]
    },
    {
      "cell_type": "code",
      "execution_count": 52,
      "metadata": {},
      "outputs": [],
      "source": [
        "skf = StratifiedKFold(n_splits=3, shuffle = True, random_state = 42)"
      ]
    },
    {
      "cell_type": "code",
      "execution_count": 53,
      "metadata": {
        "id": "ycwjD8ztGOL7"
      },
      "outputs": [
        {
          "name": "stdout",
          "output_type": "stream",
          "text": [
            "Fitting 3 folds for each of 4 candidates, totalling 12 fits\n",
            "LR: Train-accuracy: 88.00%\n",
            "LR: Val-accuracy: 82%\n",
            "LR: Test-accuracy: 83%\n",
            "\n",
            "\n",
            "              precision    recall  f1-score   support\n",
            "\n",
            "           0       0.78      0.86      0.82       216\n",
            "           1       0.86      0.78      0.82       234\n",
            "\n",
            "    accuracy                           0.82       450\n",
            "   macro avg       0.82      0.82      0.82       450\n",
            "weighted avg       0.82      0.82      0.82       450\n",
            "\n"
          ]
        }
      ],
      "source": [
        "# REGRESIÓN LOGÍSTICA:\n",
        "\n",
        "# ******* Inlcuye a continuación todas las líneas de código y celdas que requieras: ***********\n",
        "\n",
        "# Parámetros para la búsqueda de hiperparámetros\n",
        "lr_grid_values = {\n",
        "    'C': [0.01, 0.1, 1, 10]\n",
        "}\n",
        "# Modelo de regresión logística\n",
        "clf_model_lr = GridSearchCV(\n",
        "        LogisticRegression(), # Modelo de regresión logística\n",
        "        param_grid=lr_grid_values, # Parámetros para la búsqueda de hiperparámetros\n",
        "        scoring='accuracy',# Métrica de evaluación\n",
        "        cv = skf,# Validación cruzada\n",
        "        verbose=1,# Mostrar mensajes\n",
        "    )\n",
        "\n",
        "modeloLRcount = clf_model_lr.fit(trainEmb, y_train) # Entrenar el modelo\n",
        "\n",
        "print('LR: Train-accuracy: %.2f%%' % (100*modeloLRcount.score(trainEmb, y_train)))\n",
        "print('LR: Val-accuracy: %2.f%%' % (100*modeloLRcount.score(valEmb, y_val)))\n",
        "print('LR: Test-accuracy: %2.f%%' % (100*modeloLRcount.score(testEmb, y_test)))\n",
        "print('\\n')\n",
        "print(classification_report(y_val, modeloLRcount.predict(valEmb)))\n",
        "\n",
        "# *********** Aquí termina la sección de agregar código *************\n"
      ]
    },
    {
      "cell_type": "code",
      "execution_count": 54,
      "metadata": {
        "id": "N4n70GHW0sl3"
      },
      "outputs": [
        {
          "name": "stdout",
          "output_type": "stream",
          "text": [
            "Fitting 3 folds for each of 12 candidates, totalling 36 fits\n",
            "\n",
            "RF: Train-accuracy: 96.95%\n",
            "RF: Val-accuracy: 79.33%\n",
            "LR: Test-accuracy: 78%\n",
            "\n",
            "\n",
            "              precision    recall  f1-score   support\n",
            "\n",
            "           0       0.75      0.85      0.80       216\n",
            "           1       0.84      0.74      0.79       234\n",
            "\n",
            "    accuracy                           0.79       450\n",
            "   macro avg       0.80      0.80      0.79       450\n",
            "weighted avg       0.80      0.79      0.79       450\n",
            "\n"
          ]
        }
      ],
      "source": [
        "# BOSQUE ALEATORIO (Random Forest):\n",
        "\n",
        "# ******* Inlcuye a continuación todas las líneas de código y celdas que requieras: ***********\n",
        "\n",
        "# Parámetros para la búsqueda de hiperparámetros\n",
        "rf_grid_values = {\n",
        "    'max_depth': [5, 7, 10],\n",
        "    'n_estimators': [50, 70, 100, 150]\n",
        "}\n",
        "# Modelo de bosque aleatorio\n",
        "clf_model_rf = GridSearchCV(\n",
        "        RandomForestClassifier(),# Modelo de bosque aleatorio \n",
        "        param_grid=rf_grid_values, # Parámetros para la búsqueda de hiperparámetros\n",
        "        scoring='accuracy',# Métrica de evaluación\n",
        "        cv = skf,# Validación cruzada\n",
        "        verbose=1,# Mostrar mensajes\n",
        "    )\n",
        "\n",
        "modeloRFcount = clf_model_rf.fit(trainEmb, y_train)# Entrenar el modelo\n",
        "print('\\nRF: Train-accuracy: %.2f%%' % (100*modeloRFcount.score(trainEmb, y_train)))\n",
        "print('RF: Val-accuracy: %.2f%%' % (100*modeloRFcount.score(valEmb, y_val)))\n",
        "print('LR: Test-accuracy: %2.f%%' % (100*modeloRFcount.score(testEmb, y_test)))\n",
        "print('\\n')\n",
        "print(classification_report(y_val, modeloRFcount.predict(valEmb)))\n",
        "\n",
        "# *********** Aquí termina la sección de agregar código *************"
      ]
    },
    {
      "cell_type": "markdown",
      "metadata": {
        "id": "WDIiSHvg0_hm"
      },
      "source": [
        "# **Pregunta - 9:**"
      ]
    },
    {
      "cell_type": "markdown",
      "metadata": {
        "id": "dJJtALGZHrGk"
      },
      "source": [
        "\n",
        "\n",
        "Reporte del mejor modelo.\n"
      ]
    },
    {
      "cell_type": "code",
      "execution_count": 55,
      "metadata": {
        "id": "ETv4VLjP1GYt"
      },
      "outputs": [
        {
          "name": "stdout",
          "output_type": "stream",
          "text": [
            "Test-accuracy con el mejor modelo: 82.89%\n"
          ]
        },
        {
          "data": {
            "image/png": "[encoded data removed]",
            "text/plain": [
              "<Figure size 800x600 with 2 Axes>"
            ]
          },
          "metadata": {},
          "output_type": "display_data"
        },
        {
          "name": "stdout",
          "output_type": "stream",
          "text": [
            "\n",
            "Reporte de Clasificación:\n",
            "              precision    recall  f1-score   support\n",
            "\n",
            "     Clase 0       0.82      0.82      0.82       216\n",
            "     Clase 1       0.84      0.83      0.84       234\n",
            "\n",
            "    accuracy                           0.83       450\n",
            "   macro avg       0.83      0.83      0.83       450\n",
            "weighted avg       0.83      0.83      0.83       450\n",
            "\n"
          ]
        }
      ],
      "source": [
        "# ******* Inlcuye a continuación todas las líneas de código y celdas que requieras: ***********\n",
        "\n",
        "import seaborn as sns\n",
        "import matplotlib.pyplot as plt\n",
        "from sklearn.metrics import confusion_matrix, classification_report\n",
        "\n",
        "# Asignar el mejor modelo a una variable\n",
        "mejor_modelo = modeloLRcount\n",
        "\n",
        "# Calcular y mostrar la precisión en el conjunto de prueba\n",
        "test_accuracy = mejor_modelo.score(testEmb, y_test) * 100\n",
        "print(f'Test-accuracy con el mejor modelo: {test_accuracy:.2f}%')\n",
        "\n",
        "# Obtener predicciones del conjunto de prueba\n",
        "predicciones = mejor_modelo.predict(testEmb)\n",
        "\n",
        "# Calcular la matriz de confusión\n",
        "matriz_confusion = confusion_matrix(y_test, predicciones, labels=[0, 1])\n",
        "\n",
        "# Visualizar la matriz de confusión con seaborn\n",
        "plt.figure(figsize=(8, 6))\n",
        "sns.heatmap(matriz_confusion, annot=True, fmt='d', cmap='magma', xticklabels=['Clase 0', 'Clase 1'], yticklabels=['Clase 0', 'Clase 1'])\n",
        "plt.title('Matriz de Confusión')\n",
        "plt.xlabel('Predicción')\n",
        "plt.ylabel('Real')\n",
        "plt.show()\n",
        "\n",
        "\n",
        "\n",
        "# Mostrar el reporte de clasificación\n",
        "reporte_clasificacion = classification_report(y_test, predicciones, target_names=['Clase 0', 'Clase 1'])\n",
        "print('\\nReporte de Clasificación:')\n",
        "print(reporte_clasificacion)\n",
        "\n",
        "\n",
        "# *********** Aquí termina la sección de agregar código *************"
      ]
    },
    {
      "cell_type": "markdown",
      "metadata": {
        "id": "YCkh2WfN1MC1"
      },
      "source": [
        "# **Pregunta - 10:**"
      ]
    },
    {
      "cell_type": "markdown",
      "metadata": {
        "id": "4ySFuDQtVuK5"
      },
      "source": [
        "\n",
        "\n",
        "Incluye tus comentarios finales de la actividad.\n",
        "\n",
        "### ++++++++ Inicia la sección de agregar texto: +++++++++++\n",
        "\n",
        "### Comentarios Finales\n",
        "\n",
        "En esta actividad, se exploraron los embeddings pre-entrenados de FastText y se compararon con otros modelos de embeddings como word2vec y GloVe. A continuación, se presenta un resumen de los resultados obtenidos y las lecciones aprendidas.\n",
        "\n",
        "#### Resultados Obtenidos\n",
        "\n",
        "1. **Precisión del Modelo**: El mejor modelo de regresión logística alcanzó una precisión del 83% en el conjunto de prueba. Este desempeño es satisfactorio, demostrando que los embeddings de FastText son efectivos para capturar la semántica de los textos y mejorar la clasificación.\n",
        "\n",
        "2. **Matriz de Confusión**: La matriz de confusión mostró que el modelo tiene una buena capacidad para distinguir entre las dos clases, con 178 verdaderos positivos y 195 verdaderos negativos. Sin embargo, hubo 38 falsos positivos y 39 falsos negativos, lo que indica áreas de mejora en la precisión y el recall del modelo.\n",
        "\n",
        "3. **Reporte de Clasificación**: El reporte de clasificación mostró una precisión, recall y f1-score de aproximadamente 0.83 para ambas clases, lo que refuerza la idea de que el modelo tiene un desempeño equilibrado y robusto.\n",
        "\n",
        "#### Resumen de lo Aprendido\n",
        "\n",
        "1. **Uso de Embeddings Pre-entrenados**: Aprendimos a utilizar embeddings pre-entrenados de FastText, lo que nos permitió manejar eficientemente palabras raras y morfológicamente ricas. Esto es especialmente útil en tareas de procesamiento de lenguaje natural donde la diversidad lingüística es alta.\n",
        "\n",
        "2. **Lematización y Limpieza de Datos**: Se destacó la importancia del preprocesamiento, incluyendo la lematización y la eliminación de stopwords. Estas técnicas son fundamentales para mejorar la calidad de los datos y, por ende, el desempeño del modelo.\n",
        "\n",
        "3. **Construcción y Evaluación del Modelo**: Utilizamos técnicas de reducción de dimensionalidad y clasificación para evaluar el desempeño del modelo. El uso de t-SNE para visualizar los embeddings nos permitió comprender mejor la distribución de los datos en el espacio vectorial.\n",
        "\n",
        "4. **Comparación de Modelos de Embeddings**: La tabla comparativa entre FastText, word2vec y GloVe proporcionó una visión clara de las fortalezas y debilidades de cada modelo. FastText se destacó por su manejo de sub-palabras, lo que lo hace robusto frente a palabras fuera del vocabulario (OOV).\n",
        "\n",
        "5. **Métricas de Evaluación**: La comprensión y el uso de métricas como precisión, recall, f1-score y la matriz de confusión fueron cruciales para evaluar y mejorar el modelo. Estas métricas nos ayudaron a identificar las áreas donde el modelo tiene un buen desempeño y donde puede mejorarse.\n",
        "\n",
        "En conclusión, esta actividad nos permitió profundizar en el uso de embeddings pre-entrenados, entender la importancia del preprocesamiento de datos y aprender a evaluar modelos de clasificación utilizando diversas métricas. Los resultados obtenidos demuestran la eficacia de FastText en tareas de clasificación de textos y nos brindan una sólida base para futuras aplicaciones en procesamiento de lenguaje natural.\n",
        "\n",
        "\n",
        "### ++++++++ Termina la sección de agregar texto: +++++++++++"
      ]
    },
    {
      "cell_type": "markdown",
      "metadata": {
        "id": "bgKHmQTbWJT1"
      },
      "source": [
        "## **Fin de la Actividad de vectores Embebidos - FastText**"
      ]
    }
  ],
  "metadata": {
    "colab": {
      "provenance": []
    },
    "kernelspec": {
      "display_name": "Python 3",
      "name": "python3"
    },
    "language_info": {
      "codemirror_mode": {
        "name": "ipython",
        "version": 3
      },
      "file_extension": ".py",
      "mimetype": "text/x-python",
      "name": "python",
      "nbconvert_exporter": "python",
      "pygments_lexer": "ipython3",
      "version": "3.12.3"
    }
  },
  "nbformat": 4,
  "nbformat_minor": 0
}
