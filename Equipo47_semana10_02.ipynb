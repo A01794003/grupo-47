{
 "cells": [
  {
   "cell_type": "code",
   "execution_count": 1,
   "metadata": {},
   "outputs": [],
   "source": [
    "import google.generativeai as genai\n",
    "\n",
    "GOOGLE_API_KEY = \n",
    "\n",
    "genai.configure(api_key=GOOGLE_API_KEY)"
   ]
  },
  {
   "cell_type": "code",
   "execution_count": 2,
   "metadata": {},
   "outputs": [],
   "source": [
    "generation_config = {\n",
    "    'temperature': 0.1,\n",
    "    'top_p': 0.95,\n",
    "    'top_k': 20,\n",
    "    'max_output_tokens': 8192\n",
    "}"
   ]
  },
  {
   "cell_type": "code",
   "execution_count": 3,
   "metadata": {},
   "outputs": [
    {
     "name": "stdout",
     "output_type": "stream",
     "text": [
      "models/gemini-1.0-pro\n",
      "models/gemini-1.0-pro-001\n",
      "models/gemini-1.0-pro-latest\n",
      "models/gemini-1.0-pro-vision-latest\n",
      "models/gemini-1.5-flash\n",
      "models/gemini-1.5-flash-001\n",
      "models/gemini-1.5-flash-latest\n",
      "models/gemini-1.5-pro\n",
      "models/gemini-1.5-pro-001\n",
      "models/gemini-1.5-pro-latest\n",
      "models/gemini-pro\n",
      "models/gemini-pro-vision\n"
     ]
    }
   ],
   "source": [
    "for m in genai.list_models():\n",
    "  if 'generateContent' in m.supported_generation_methods:\n",
    "    print(m.name)"
   ]
  },
  {
   "cell_type": "code",
   "execution_count": 4,
   "metadata": {},
   "outputs": [],
   "source": [
    "model = genai.GenerativeModel('gemini-1.5-pro-latest', generation_config=generation_config)"
   ]
  },
  {
   "cell_type": "code",
   "execution_count": 5,
   "metadata": {},
   "outputs": [],
   "source": [
    "prompt_1 = \"\"\"\n",
    "Eres un experto que tiene como objetivo apoyar a los diferentes departamentos de la compañia con temas de implementación de Machine learning.\n",
    "Especificamente trabajas para una empresa de retail que cuenta con tiendas en todo Mexico.\n",
    "Actualmente apoyas en el area de cadena de suministro, viendo en especifico la correcta disposición, abastecimiento y distribución de los productos a las tiendas.\n",
    "Se te ha sido asignado un proyecto para encontrar las mejores aplicaciones de herramientas de machine learning en la cadena de suministro de la compañia, desde implementaciones en la eficiencia de distribución,\n",
    "generar mejores pronósticos, hasta seguimiento de la merma en los centros de distribución como ejemplos.\n",
    "Adicional, tienes que ver los impactos que pueden existar adicional en otras áreas de la compañia, por ejemplo como comercial, marketing, recursos humanos, etc.\n",
    "\"\"\"\n",
    "\n",
    "response = model.generate_content(prompt_1)"
   ]
  },
  {
   "cell_type": "code",
   "execution_count": 8,
   "metadata": {},
   "outputs": [
    {
     "name": "stdout",
     "output_type": "stream",
     "text": [
      "## Aplicaciones de Machine Learning en la Cadena de Suministro de una Empresa de Retail en México:\n",
      "\n",
      "Como experto en Machine Learning, puedo sugerir las siguientes aplicaciones para optimizar la cadena de suministro de tu empresa de retail, considerando su impacto en otras áreas:\n",
      "\n",
      "**1. Optimización de Inventario y Distribución:**\n",
      "\n",
      "* **Pronóstico de Demanda:**\n",
      "    * **Modelos de series de tiempo:** (ARIMA, SARIMA, Prophet) para predecir la demanda futura de productos a nivel de tienda y SKU, considerando factores como estacionalidad, promociones y eventos.\n",
      "    * **Redes Neuronales Recurrentes (RNN):** Para capturar patrones complejos y dependencias a largo plazo en los datos de demanda.\n",
      "    * **Impacto:** Reducción de costos de inventario, mejora en la disponibilidad de productos y satisfacción del cliente.\n",
      "* **Optimización de Stock de Seguridad:**\n",
      "    * **Algoritmos de Machine Learning:** Para determinar el nivel óptimo de stock de seguridad para cada producto en cada centro de distribución, considerando la variabilidad de la demanda y los tiempos de entrega.\n",
      "    * **Impacto:** Reducción de costos de inventario sin afectar la disponibilidad de productos.\n",
      "* **Planificación de Rutas de Entrega:**\n",
      "    * **Algoritmos de optimización de rutas:** (Vehicle Routing Problem - VRP) para determinar las rutas de entrega más eficientes, considerando factores como tráfico, horarios de entrega y capacidad de los vehículos.\n",
      "    * **Impacto:** Reducción de costos de transporte, mejora en la eficiencia de la entrega y reducción de la huella de carbono.\n",
      "\n",
      "**2. Gestión de Almacenes y Centros de Distribución:**\n",
      "\n",
      "* **Predicción de Merma:**\n",
      "    * **Algoritmos de clasificación:** (Regresión Logística, Árboles de Decisión, Random Forest) para identificar productos con alto riesgo de merma, considerando factores como fecha de caducidad, condiciones de almacenamiento y rotación de inventario.\n",
      "    * **Impacto:** Reducción de pérdidas por merma, optimización de la gestión de productos perecederos y mejora en la calidad de los productos ofrecidos.\n",
      "* **Optimización de la Ubicación de Productos:**\n",
      "    * **Algoritmos de clustering:** (K-Means, DBSCAN) para agrupar productos con patrones de demanda similares y optimizar su ubicación en el almacén.\n",
      "    * **Impacto:** Reducción de tiempos de preparación de pedidos, mejora en la eficiencia del picking y packing.\n",
      "\n",
      "**3.  Visibilidad y Trazabilidad de la Cadena de Suministro:**\n",
      "\n",
      "* **Monitoreo en Tiempo Real:**\n",
      "    * **Internet de las Cosas (IoT):** Para rastrear la ubicación y el estado de los productos en tiempo real a lo largo de la cadena de suministro.\n",
      "    * **Impacto:** Mayor transparencia y control sobre la cadena de suministro, capacidad de respuesta ante imprevistos y mejora en la gestión de riesgos.\n",
      "\n",
      "**Impacto en otras áreas de la empresa:**\n",
      "\n",
      "* **Comercial:**\n",
      "    * Mejoras en la disponibilidad de productos y la precisión de las promociones.\n",
      "    * Identificación de nuevas oportunidades de venta cruzada y up-selling.\n",
      "* **Marketing:**\n",
      "    * Segmentación de clientes más precisa para campañas de marketing personalizadas.\n",
      "    * Optimización de la gestión de precios y promociones.\n",
      "* **Recursos Humanos:**\n",
      "    * Automatización de tareas repetitivas, liberando al personal para enfocarse en actividades de mayor valor.\n",
      "    * Mejora en la planificación de la fuerza laboral en función de la demanda.\n",
      "\n",
      "**Recomendaciones Adicionales:**\n",
      "\n",
      "* **Calidad de los Datos:** Es fundamental contar con datos precisos, completos y actualizados para el éxito de cualquier implementación de Machine Learning.\n",
      "* **Infraestructura Tecnológica:** Se requiere una infraestructura tecnológica robusta para almacenar, procesar y analizar grandes volúmenes de datos.\n",
      "* **Talento Especializado:** Es necesario contar con un equipo de profesionales con experiencia en Machine Learning, análisis de datos y desarrollo de software.\n",
      "\n",
      "Implementar estas soluciones de Machine Learning en la cadena de suministro de tu empresa de retail puede generar importantes beneficios, como la reducción de costos, la mejora de la eficiencia operativa y la satisfacción del cliente. \n",
      "\n"
     ]
    }
   ],
   "source": [
    "prompt_2 = \"¿Que tipo de aplicaciones nos puedes sugerir con machine learning en la cadena de suministro para nuestra empresa de retail?\"\n",
    "prompt = [prompt_1, prompt_2]\n",
    "\n",
    "output = model.generate_content(prompt)\n",
    "print(output.text)"
   ]
  },
  {
   "cell_type": "code",
   "execution_count": 9,
   "metadata": {},
   "outputs": [
    {
     "name": "stdout",
     "output_type": "stream",
     "text": [
      "## Aplicaciones de Machine Learning en la Cadena de Suministro para tu Empresa de Retail:\n",
      "\n",
      "Para facilitar la adopción de Machine Learning, he ordenado las sugerencias de las más alcanzables a las más complejas para una empresa en maduración del tema de datos:\n",
      "\n",
      "**Fase 1: Cimientos y Primeros Pasos (Alcanzables a corto plazo)**\n",
      "\n",
      "1. **Pronóstico de Demanda Mejorado:**\n",
      "    * **Objetivo:** Predecir con mayor precisión la demanda futura de productos en cada tienda.\n",
      "    * **Implementación:** Modelos de series de tiempo (ARIMA, Prophet) o Machine Learning clásico (Regresiones, Árboles de Decisión) utilizando datos históricos de ventas, promociones, temporalidad (estacionalidad, días festivos) y datos externos como clima.\n",
      "    * **Impacto:** Optimización de inventario, reducción de quiebres de stock y merma, mejor planificación de compras y distribución.\n",
      "    * **Beneficios adicionales:**\n",
      "        * **Comercial:** Identificar patrones de compra y tendencias para ajustar ofertas y promociones.\n",
      "        * **Marketing:** Personalizar campañas publicitarias según la demanda prevista en cada zona.\n",
      "\n",
      "2. **Optimización de Inventario:**\n",
      "    * **Objetivo:** Determinar el nivel óptimo de inventario para cada producto en cada centro de distribución y tienda.\n",
      "    * **Implementación:** Modelos de Machine Learning como Random Forest o Gradient Boosting que consideren la demanda prevista, tiempos de entrega, costos de almacenamiento y costos de oportunidad por falta de stock.\n",
      "    * **Impacto:** Reducción de costos de almacenamiento, minimización de productos obsoletos y mejora en la rotación de inventario.\n",
      "\n",
      "3. **Detección de Anomalías en la Cadena de Suministro:**\n",
      "    * **Objetivo:** Identificar rápidamente eventos inusuales como retrasos en entregas, fluctuaciones inesperadas en la demanda o problemas de calidad.\n",
      "    * **Implementación:** Algoritmos de clustering (K-Means, DBSCAN) o modelos de aprendizaje no supervisado para detectar patrones anómalos en datos de transporte, recepción de mercancía y ventas.\n",
      "    * **Impacto:** Respuesta más rápida a problemas operativos, prevención de pérdidas por productos dañados o robados y mayor eficiencia en la gestión de riesgos.\n",
      "\n",
      "**Fase 2: Escalabilidad y Sofisticación (Mediano plazo)**\n",
      "\n",
      "4. **Planificación de Rutas de Entrega Optimizadas:**\n",
      "    * **Objetivo:** Diseñar las rutas más eficientes para la flota de transporte, considerando variables como tráfico, horarios de entrega y capacidad de los vehículos.\n",
      "    * **Implementación:** Algoritmos de optimización como Simulated Annealing o Algoritmos Genéticos, combinados con datos de mapas en tiempo real y GPS de los vehículos.\n",
      "    * **Impacto:** Reducción de costos de transporte, entregas más rápidas y eficientes, y disminución de la huella de carbono.\n",
      "\n",
      "5. **Mantenimiento Predictivo de Equipos:**\n",
      "    * **Objetivo:** Anticipar fallas en equipos de transporte y almacenes para programar mantenimientos preventivos.\n",
      "    * **Implementación:** Modelos de Machine Learning que analicen datos de sensores IoT (Internet of Things) instalados en los equipos para identificar patrones que preceden a una falla.\n",
      "    * **Impacto:** Reducción de costos de mantenimiento, minimización de tiempos de inactividad y aumento de la vida útil de los equipos.\n",
      "\n",
      "**Fase 3:  Personalización y toma de decisiones automatizada (Largo plazo)**\n",
      "\n",
      "6. **Precios Dinámicos:**\n",
      "    * **Objetivo:** Ajustar los precios de los productos en tiempo real según la demanda, competencia y otros factores del mercado.\n",
      "    * **Implementación:** Modelos de Machine Learning que analicen datos de ventas, precios de la competencia, eventos promocionales y comportamiento del consumidor.\n",
      "    * **Impacto:** Maximización de ingresos, mejor gestión de inventario y respuesta ágil a las fluctuaciones del mercado.\n",
      "\n",
      "7. **Segmentación de Clientes y Personalización de Ofertas:**\n",
      "    * **Objetivo:**  Identificar diferentes perfiles de clientes y ofrecer productos y promociones personalizadas.\n",
      "    * **Implementación:** Algoritmos de clustering para segmentar clientes según su comportamiento de compra y preferencias.\n",
      "    * **Impacto:** Mayor satisfacción del cliente, aumento de la fidelización y ventas cruzadas más efectivas.\n",
      "\n",
      "**Impacto en Recursos Humanos:**\n",
      "\n",
      "* La implementación de Machine Learning puede requerir la capacitación del personal en el uso de nuevas herramientas y la interpretación de datos.\n",
      "* Se pueden crear nuevas oportunidades laborales para perfiles con habilidades en análisis de datos y Machine Learning.\n",
      "\n",
      "**Recomendaciones Finales:**\n",
      "\n",
      "* Comenzar con proyectos de baja complejidad y alto impacto para demostrar el valor del Machine Learning.\n",
      "* Asegurar la calidad y disponibilidad de los datos para el entrenamiento y validación de los modelos.\n",
      "* Trabajar en colaboración con expertos en Machine Learning y proveedores de tecnología para una implementación exitosa.\n",
      "\n",
      "Implementar Machine Learning en la cadena de suministro puede generar una ventaja competitiva significativa para tu empresa de retail, optimizando procesos, reduciendo costos y mejorando la satisfacción del cliente. \n",
      "\n"
     ]
    }
   ],
   "source": [
    "prompt_3 = \"¿Podrías ordenar las sugerencias de una forma de las mas alcanzables para una empresa en maduración del tema de datos?\"\n",
    "prompt = [prompt_1, prompt_2, prompt_3]\n",
    "\n",
    "output = model.generate_content(prompt)\n",
    "print(output.text)"
   ]
  },
  {
   "cell_type": "code",
   "execution_count": null,
   "metadata": {},
   "outputs": [],
   "source": []
  }
 ],
 "metadata": {
  "kernelspec": {
   "display_name": "nlp",
   "language": "python",
   "name": "python3"
  },
  "language_info": {
   "codemirror_mode": {
    "name": "ipython",
    "version": 3
   },
   "file_extension": ".py",
   "mimetype": "text/x-python",
   "name": "python",
   "nbconvert_exporter": "python",
   "pygments_lexer": "ipython3",
   "version": "3.10.14"
  }
 },
 "nbformat": 4,
 "nbformat_minor": 2
}
