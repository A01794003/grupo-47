{
 "cells": [
  {
   "cell_type": "code",
   "execution_count": 1,
   "metadata": {},
   "outputs": [],
   "source": [
    "from abc import ABC\n",
    "from langchain_core.runnables import Runnable, RunnablePassthrough\n",
    "from langchain_openai import ChatOpenAI\n",
    "from langchain_core.prompts import ChatPromptTemplate\n",
    "from dotenv import load_dotenv\n",
    "import os"
   ]
  },
  {
   "cell_type": "code",
   "execution_count": 2,
   "metadata": {},
   "outputs": [],
   "source": [
    "class ChatChain(ABC):\n",
    "    \n",
    "    def __init__(\n",
    "        self,\n",
    "        openai_api_key: str,\n",
    "        openai_model: str = \"gpt-3.5-turbo\",\n",
    "        chat_temperature: float = 0.0,\n",
    "    ):\n",
    "        load_dotenv(\".env\")\n",
    "        self.openai_api_key = openai_api_key\n",
    "        self.openai_model = openai_model\n",
    "        self.chat_temperature = chat_temperature\n",
    "    \n",
    "    def chain(self) -> Runnable:\n",
    "        \n",
    "        prompt = ChatPromptTemplate.from_template(\n",
    "            \"Eres un asistente que tienes como objetivo poder ayudar a los usuarios a tener opciones en actividades de inteligencia articial.\"\n",
    "            \"Recibiras preguntas sobre la empresa Analytics el cual dentro de su área están buscando poder crear una solución a través de simulación numérica.\"\n",
    "            \"Esta solución intenta encontrar el mejor algoritmo de optimización para encontrar los mejores escenarios de la simulación numérica, \"\n",
    "            \"teniendo como función de pérdida el VPN. Tu objetivo es poder ayudar al área en diversas preguntas al respecto y siempre intenta dar\"\n",
    "            \"respuesta claras al respecto. Trata de ser conciso en la respuesta y siempre dando ya sea un paso a paso o un explicación de tu respuesta\"\n",
    "            \"\\n\\Pregunta: {question}  \\n\\Respuesta: \\n\")\n",
    "        \n",
    "        chat_model = ChatOpenAI(\n",
    "            openai_api_key=self.openai_api_key,\n",
    "            model=self.openai_model,\n",
    "            temperature=self.chat_temperature,\n",
    "        )\n",
    "        \n",
    "        chain = (\n",
    "            {\n",
    "                \"question\": RunnablePassthrough()\n",
    "            }\n",
    "            | prompt\n",
    "            | chat_model\n",
    "        )\n",
    "        \n",
    "        return chain"
   ]
  },
  {
   "cell_type": "code",
   "execution_count": 3,
   "metadata": {},
   "outputs": [],
   "source": [
    "load_dotenv(\".env\")\n",
    "chain = ChatChain(\n",
    "    openai_api_key=os.environ[\"OPENAI_API_KEY\"],\n",
    "    openai_model=\"gpt-3.5-turbo\",\n",
    "    chat_temperature=0.0,\n",
    ")"
   ]
  },
  {
   "cell_type": "code",
   "execution_count": 4,
   "metadata": {},
   "outputs": [],
   "source": [
    "chain_qa = chain.chain()"
   ]
  },
  {
   "cell_type": "code",
   "execution_count": 5,
   "metadata": {},
   "outputs": [],
   "source": [
    "result = chain_qa.invoke(\"¿Que tipo de algortimos de optimización pueden ser usados en simulación numérica?\")"
   ]
  },
  {
   "cell_type": "code",
   "execution_count": 7,
   "metadata": {},
   "outputs": [
    {
     "name": "stdout",
     "output_type": "stream",
     "text": [
      "Existen varios tipos de algoritmos de optimización que pueden ser utilizados en simulación numérica, algunos de los más comunes son:\n",
      "\n",
      "1. Algoritmos genéticos: Estos algoritmos se basan en la evolución biológica y utilizan conceptos como selección, cruce y mutación para encontrar soluciones óptimas.\n",
      "\n",
      "2. Algoritmos de enjambre de partículas: Estos algoritmos se inspiran en el comportamiento de los enjambres de animales y buscan encontrar soluciones óptimas mediante la interacción entre múltiples \"partículas\".\n",
      "\n",
      "3. Algoritmos de optimización por enjambre de partículas: Estos algoritmos se basan en el comportamiento de los enjambres de animales y buscan encontrar soluciones óptimas mediante la interacción entre múltiples \"partículas\".\n",
      "\n",
      "4. Algoritmos de optimización basados en gradiente: Estos algoritmos utilizan información sobre la pendiente de la función objetivo para encontrar la dirección óptima de búsqueda.\n",
      "\n",
      "5. Algoritmos de optimización estocástica: Estos algoritmos utilizan técnicas probabilísticas para encontrar soluciones óptimas, como el recocido simulado o la búsqueda tabú.\n",
      "\n",
      "En el caso de la empresa Analytics, es importante evaluar cada algoritmo en función de la complejidad del problema de optimización y la eficiencia computacional requerida para encontrar la mejor solución en términos de VPN.\n"
     ]
    }
   ],
   "source": [
    "print(result.content)"
   ]
  },
  {
   "cell_type": "markdown",
   "metadata": {},
   "source": [
    "---"
   ]
  }
 ],
 "metadata": {
  "kernelspec": {
   "display_name": "chapterDS",
   "language": "python",
   "name": "python3"
  },
  "language_info": {
   "codemirror_mode": {
    "name": "ipython",
    "version": 3
   },
   "file_extension": ".py",
   "mimetype": "text/x-python",
   "name": "python",
   "nbconvert_exporter": "python",
   "pygments_lexer": "ipython3",
   "version": "3.10.11"
  }
 },
 "nbformat": 4,
 "nbformat_minor": 2
}
